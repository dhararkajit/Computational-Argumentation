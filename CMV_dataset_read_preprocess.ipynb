{
  "nbformat": 4,
  "nbformat_minor": 0,
  "metadata": {
    "colab": {
      "name": "CMV_dataset_read_preprocess.ipynb",
      "provenance": [],
      "collapsed_sections": [],
      "machine_shape": "hm",
      "include_colab_link": true
    },
    "kernelspec": {
      "name": "python3",
      "display_name": "Python 3"
    }
  },
  "cells": [
    {
      "cell_type": "markdown",
      "metadata": {
        "id": "view-in-github",
        "colab_type": "text"
      },
      "source": [
        "<a href=\"https://colab.research.google.com/github/dhararkajit/Computational-Argumentation/blob/master/CMV_dataset_read_preprocess.ipynb\" target=\"_parent\"><img src=\"https://colab.research.google.com/assets/colab-badge.svg\" alt=\"Open In Colab\"/></a>"
      ]
    },
    {
      "cell_type": "code",
      "metadata": {
        "id": "3F6ilWwVJMvo",
        "colab_type": "code",
        "outputId": "404d8c21-a022-4039-e6a6-437cc5f15b22",
        "colab": {
          "base_uri": "https://localhost:8080/",
          "height": 34
        }
      },
      "source": [
        "from google.colab import drive\n",
        "drive.mount('/content/drive')"
      ],
      "execution_count": 11,
      "outputs": [
        {
          "output_type": "stream",
          "text": [
            "Drive already mounted at /content/drive; to attempt to forcibly remount, call drive.mount(\"/content/drive\", force_remount=True).\n"
          ],
          "name": "stdout"
        }
      ]
    },
    {
      "cell_type": "code",
      "metadata": {
        "id": "PsyK3FmrIlsm",
        "colab_type": "code",
        "colab": {}
      },
      "source": [
        "#!curl -Lo \"/content/drive/My Drive/Master Thesis/cmv_20161111.jsonlist.gz\" https://chenhaot.com/data/cmv/cmv_20161111.jsonlist.gz\n",
        "#!gunzip \"/content/drive/My Drive/Master Thesis/cmv_20161111.jsonlist.gz\""
      ],
      "execution_count": 0,
      "outputs": []
    },
    {
      "cell_type": "code",
      "metadata": {
        "id": "z8ZaHAeUOXxj",
        "colab_type": "code",
        "outputId": "94f5d15b-0a38-46b0-cd68-f1cba8ad9b5b",
        "colab": {
          "base_uri": "https://localhost:8080/",
          "height": 34
        }
      },
      "source": [
        "import pandas as pd\n",
        "import numpy as np\n",
        "import re\n",
        "import json\n",
        "!pip install jsonlist\n",
        "import jsonlist\n",
        "\n",
        "pd.set_option('display.max_rows', 500)\n",
        "pd.set_option('display.max_columns', 500)\n",
        "pd.set_option('display.width', 1000)\n",
        "\n",
        "from __future__ import unicode_literals, print_function, division\n",
        "from io import open\n",
        "import unicodedata\n",
        "import string\n",
        "import random\n",
        "\n",
        "import torch\n",
        "import torch.nn as nn\n",
        "from torch import optim\n",
        "import torch.nn.functional as F\n",
        "\n",
        "device = torch.device(\"cuda\" if torch.cuda.is_available() else \"cpu\")"
      ],
      "execution_count": 13,
      "outputs": [
        {
          "output_type": "stream",
          "text": [
            "Requirement already satisfied: jsonlist in /usr/local/lib/python3.6/dist-packages (0.1.0)\n"
          ],
          "name": "stdout"
        }
      ]
    },
    {
      "cell_type": "code",
      "metadata": {
        "id": "ISSOnecZTPCS",
        "colab_type": "code",
        "colab": {}
      },
      "source": [
        "data= jsonlist.load_file('/content/drive/My Drive/Master Thesis/cmv_20161111.jsonlist')"
      ],
      "execution_count": 0,
      "outputs": []
    },
    {
      "cell_type": "code",
      "metadata": {
        "id": "TsZaG_l_T3ND",
        "colab_type": "code",
        "outputId": "1eb8b4a5-00f2-4b69-dca1-fb2044f1bc08",
        "colab": {
          "base_uri": "https://localhost:8080/",
          "height": 34
        }
      },
      "source": [
        "dataset = pd.DataFrame(data)\n",
        "dataset.shape"
      ],
      "execution_count": 15,
      "outputs": [
        {
          "output_type": "execute_result",
          "data": {
            "text/plain": [
              "(25043, 52)"
            ]
          },
          "metadata": {
            "tags": []
          },
          "execution_count": 15
        }
      ]
    },
    {
      "cell_type": "code",
      "metadata": {
        "id": "vUGNfo07kb2e",
        "colab_type": "code",
        "colab": {}
      },
      "source": [
        "dataset = dataset[['title','selftext','id','author','comments','name','is_self','archived','num_comments','removal_reason']]"
      ],
      "execution_count": 0,
      "outputs": []
    },
    {
      "cell_type": "code",
      "metadata": {
        "id": "upX-oIwaXlyU",
        "colab_type": "code",
        "colab": {}
      },
      "source": [
        "dataset['comments_']=dataset['comments'].apply(lambda x: x if x else 'NULL' )\n",
        "dataset = dataset[dataset['comments_'] != 'NULL']"
      ],
      "execution_count": 0,
      "outputs": []
    },
    {
      "cell_type": "code",
      "metadata": {
        "id": "78fVM1rAtjAd",
        "colab_type": "code",
        "colab": {}
      },
      "source": [
        "def get_comment_details(commnts):\n",
        "  comment_list=[]\n",
        "  req_keys=['id','link_id','parent_id','name','body','author']\n",
        "  for comment in commnts:\n",
        "    if all(keys in comment.keys() for keys in req_keys):\n",
        "      comment_dict={}\n",
        "      comment_dict['id'] = comment['id']\n",
        "      comment_dict['link_id'] = comment['link_id']\n",
        "      comment_dict['parent_id'] = comment['parent_id']\n",
        "      comment_dict['name'] = comment['name']\n",
        "      comment_dict['body'] = comment['body']\n",
        "      comment_dict['author'] = comment['author']\n",
        "      comment_list.append(comment_dict)\n",
        "  return comment_list"
      ],
      "execution_count": 0,
      "outputs": []
    },
    {
      "cell_type": "code",
      "metadata": {
        "id": "97ITX0JwqWIJ",
        "colab_type": "code",
        "colab": {}
      },
      "source": [
        "dataset['comments_'] = dataset['comments_'].apply(lambda x : get_comment_details(x) )"
      ],
      "execution_count": 0,
      "outputs": []
    },
    {
      "cell_type": "code",
      "metadata": {
        "id": "Bn_n7lOVxnNY",
        "colab_type": "code",
        "colab": {}
      },
      "source": [
        "dataset[['title',\t'selftext',\t'id',\t'author',\t\n",
        "         'name',\t'is_self',\t'archived',\t\n",
        "         'num_comments',\t'removal_reason',\t\n",
        "         'comments_']].to_json('/content/drive/My Drive/Master Thesis/cmv_20161111_cleaned.json')"
      ],
      "execution_count": 0,
      "outputs": []
    }
  ]
}